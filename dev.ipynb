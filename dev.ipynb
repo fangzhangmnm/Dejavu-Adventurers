{
 "cells": [
  {
   "cell_type": "code",
   "execution_count": 21,
   "metadata": {},
   "outputs": [],
   "source": [
    "from chatgpt_api import init_chatgpt_api,completion\n",
    "import json\n",
    "import sys,time\n",
    "\n",
    "init_chatgpt_api(api_key=open(\"C:\\\\openai.txt\").read())"
   ]
  },
  {
   "cell_type": "code",
   "execution_count": 5,
   "metadata": {},
   "outputs": [
    {
     "name": "stdout",
     "output_type": "stream",
     "text": [
      "[{'role': 'system', 'content': \"Don't make assumptions about what values to plug into functions. Ask for clarification if a user request is ambiguous.\"}, {'role': 'user', 'content': \"What's the weather like today\"}, {'role': 'assistant', 'content': 'In which location would you like to know the weather?'}]\n"
     ]
    }
   ],
   "source": [
    "functions=[\n",
    "    {\n",
    "        \"name\": \"get_current_weather\",\n",
    "        \"description\": \"Get the current weather in a given location\",\n",
    "        \"parameters\": {\n",
    "            \"type\": \"object\",\n",
    "            \"properties\": {\n",
    "            \"location\": {\n",
    "                \"type\": \"string\",\n",
    "                \"description\": \"The city and state, e.g. San Francisco, CA\"\n",
    "            },\n",
    "            \"unit\": {\n",
    "                \"type\": \"string\",\n",
    "                \"enum\": [\"celsius\", \"fahrenheit\"]\n",
    "            }\n",
    "            },\n",
    "            \"required\": [\"location\"]\n",
    "        }\n",
    "    }\n",
    "]\n",
    "messages = []\n",
    "messages.append({\"role\": \"system\", \"content\": \"Don't make assumptions about what values to plug into functions. Ask for clarification if a user request is ambiguous.\"})\n",
    "messages.append({\"role\": \"user\", \"content\": \"What's the weather like today\"})\n",
    "messages=completion(messages=messages,functions=functions)\n",
    "print(messages)"
   ]
  },
  {
   "cell_type": "code",
   "execution_count": 6,
   "metadata": {},
   "outputs": [
    {
     "name": "stdout",
     "output_type": "stream",
     "text": [
      "[{'role': 'system', 'content': \"Don't make assumptions about what values to plug into functions. Ask for clarification if a user request is ambiguous.\"}, {'role': 'user', 'content': \"What's the weather like today\"}, {'role': 'assistant', 'content': 'In which location would you like to know the weather?'}, {'role': 'user', 'content': 'Boston'}, {'role': 'assistant', 'content': None, 'function_call': {'name': 'get_current_weather', 'arguments': '{\\n  \"location\": \"Boston\"\\n}'}}]\n"
     ]
    }
   ],
   "source": [
    "messages.append({\"role\": \"user\", \"content\": \"Boston\"})\n",
    "messages=completion(messages=messages,functions=functions)\n",
    "print(messages)"
   ]
  },
  {
   "cell_type": "code",
   "execution_count": 10,
   "metadata": {},
   "outputs": [
    {
     "name": "stdout",
     "output_type": "stream",
     "text": [
      "get_current_weather {'location': 'Boston'}\n"
     ]
    }
   ],
   "source": [
    "response=messages[-1]\n",
    "if response.get(\"function_call\"):\n",
    "    try:\n",
    "        function_name=response[\"function_call\"][\"name\"]\n",
    "        function_arguments=json.loads(response[\"function_call\"][\"arguments\"])\n",
    "        print(function_name,function_arguments)\n",
    "    except json.JSONDecodeError:\n",
    "        print(\"JSONDecodeError\")\n",
    "    \n",
    "    "
   ]
  },
  {
   "cell_type": "code",
   "execution_count": 11,
   "metadata": {},
   "outputs": [
    {
     "name": "stdout",
     "output_type": "stream",
     "text": [
      "JSONDecodeError\n"
     ]
    }
   ],
   "source": [
    "try:\n",
    "    json.loads('{')\n",
    "except json.JSONDecodeError:\n",
    "    print(\"JSONDecodeError\")"
   ]
  },
  {
   "cell_type": "code",
   "execution_count": 16,
   "metadata": {},
   "outputs": [
    {
     "name": "stdout",
     "output_type": "stream",
     "text": [
      "[{'role': 'user', 'content': 'Open the door'}, {'role': 'assistant', 'content': None, 'function_call': {'name': 'open_the_door', 'arguments': '{}'}}]\n"
     ]
    }
   ],
   "source": [
    "functions=[\n",
    "    {\n",
    "        \"name\": \"open_the_door\",\n",
    "        \"description\": \"send a signal to open the door\",\n",
    "        \"parameters\": {\n",
    "            \"type\": \"object\",\n",
    "            \"properties\": {}\n",
    "        }\n",
    "    }\n",
    "]\n",
    "\n",
    "messages = []\n",
    "messages.append({\"role\": \"user\", \"content\": \"Open the door\"})\n",
    "messages=completion(messages=messages,functions=functions)\n",
    "print(messages)"
   ]
  },
  {
   "cell_type": "code",
   "execution_count": 30,
   "metadata": {},
   "outputs": [
    {
     "name": "stdout",
     "output_type": "stream",
     "text": [
      "{'role': 'assistant', 'content': 'You stand before the great Sphinx, a majestic creature with the body of a lion and the head of a human. Its eyes gleam with intelligence as it gazes down at you.\\n\\nSphinx: \"Greetings, traveler. I am the Sphinx, guardian of this gate. To pass through, you must answer my riddle correctly. Are you ready?\"\\n\\nYou nod, feeling a mix of excitement and trepidation.\\n\\nSphinx: \"Very well. Here is my riddle:\\n\\nI speak without a mouth and hear without ears. I have no body, but I come alive with wind. What am I?\"\\n\\nThe Sphinx waits patiently for your answer.'}\n"
     ]
    },
    {
     "ename": "KeyboardInterrupt",
     "evalue": "Interrupted by user",
     "output_type": "error",
     "traceback": [
      "\u001b[1;31m---------------------------------------------------------------------------\u001b[0m",
      "\u001b[1;31mKeyboardInterrupt\u001b[0m                         Traceback (most recent call last)",
      "Cell \u001b[1;32mIn[30], line 30\u001b[0m\n\u001b[0;32m     28\u001b[0m         \u001b[39mbreak\u001b[39;00m\n\u001b[0;32m     29\u001b[0m \u001b[39melse\u001b[39;00m:\n\u001b[1;32m---> 30\u001b[0m     player_input\u001b[39m=\u001b[39m\u001b[39minput\u001b[39;49m(\u001b[39m\"\u001b[39;49m\u001b[39mPlayer input:\u001b[39;49m\u001b[39m\"\u001b[39;49m)\n\u001b[0;32m     31\u001b[0m     messages\u001b[39m.\u001b[39mappend({\u001b[39m\"\u001b[39m\u001b[39mrole\u001b[39m\u001b[39m\"\u001b[39m: \u001b[39m\"\u001b[39m\u001b[39muser\u001b[39m\u001b[39m\"\u001b[39m, \u001b[39m\"\u001b[39m\u001b[39mcontent\u001b[39m\u001b[39m\"\u001b[39m: player_input})\n\u001b[0;32m     32\u001b[0m     \u001b[39mprint\u001b[39m(messages[\u001b[39m-\u001b[39m\u001b[39m1\u001b[39m]);sys\u001b[39m.\u001b[39mstdout\u001b[39m.\u001b[39mflush()\n",
      "File \u001b[1;32mc:\\Anaconda3\\envs\\tensorflow\\lib\\site-packages\\ipykernel\\kernelbase.py:1202\u001b[0m, in \u001b[0;36mKernel.raw_input\u001b[1;34m(self, prompt)\u001b[0m\n\u001b[0;32m   1200\u001b[0m     msg \u001b[39m=\u001b[39m \u001b[39m\"\u001b[39m\u001b[39mraw_input was called, but this frontend does not support input requests.\u001b[39m\u001b[39m\"\u001b[39m\n\u001b[0;32m   1201\u001b[0m     \u001b[39mraise\u001b[39;00m StdinNotImplementedError(msg)\n\u001b[1;32m-> 1202\u001b[0m \u001b[39mreturn\u001b[39;00m \u001b[39mself\u001b[39;49m\u001b[39m.\u001b[39;49m_input_request(\n\u001b[0;32m   1203\u001b[0m     \u001b[39mstr\u001b[39;49m(prompt),\n\u001b[0;32m   1204\u001b[0m     \u001b[39mself\u001b[39;49m\u001b[39m.\u001b[39;49m_parent_ident[\u001b[39m\"\u001b[39;49m\u001b[39mshell\u001b[39;49m\u001b[39m\"\u001b[39;49m],\n\u001b[0;32m   1205\u001b[0m     \u001b[39mself\u001b[39;49m\u001b[39m.\u001b[39;49mget_parent(\u001b[39m\"\u001b[39;49m\u001b[39mshell\u001b[39;49m\u001b[39m\"\u001b[39;49m),\n\u001b[0;32m   1206\u001b[0m     password\u001b[39m=\u001b[39;49m\u001b[39mFalse\u001b[39;49;00m,\n\u001b[0;32m   1207\u001b[0m )\n",
      "File \u001b[1;32mc:\\Anaconda3\\envs\\tensorflow\\lib\\site-packages\\ipykernel\\kernelbase.py:1245\u001b[0m, in \u001b[0;36mKernel._input_request\u001b[1;34m(self, prompt, ident, parent, password)\u001b[0m\n\u001b[0;32m   1242\u001b[0m \u001b[39mexcept\u001b[39;00m \u001b[39mKeyboardInterrupt\u001b[39;00m:\n\u001b[0;32m   1243\u001b[0m     \u001b[39m# re-raise KeyboardInterrupt, to truncate traceback\u001b[39;00m\n\u001b[0;32m   1244\u001b[0m     msg \u001b[39m=\u001b[39m \u001b[39m\"\u001b[39m\u001b[39mInterrupted by user\u001b[39m\u001b[39m\"\u001b[39m\n\u001b[1;32m-> 1245\u001b[0m     \u001b[39mraise\u001b[39;00m \u001b[39mKeyboardInterrupt\u001b[39;00m(msg) \u001b[39mfrom\u001b[39;00m \u001b[39mNone\u001b[39;00m\n\u001b[0;32m   1246\u001b[0m \u001b[39mexcept\u001b[39;00m \u001b[39mException\u001b[39;00m:\n\u001b[0;32m   1247\u001b[0m     \u001b[39mself\u001b[39m\u001b[39m.\u001b[39mlog\u001b[39m.\u001b[39mwarning(\u001b[39m\"\u001b[39m\u001b[39mInvalid Message:\u001b[39m\u001b[39m\"\u001b[39m, exc_info\u001b[39m=\u001b[39m\u001b[39mTrue\u001b[39;00m)\n",
      "\u001b[1;31mKeyboardInterrupt\u001b[0m: Interrupted by user"
     ]
    }
   ],
   "source": [
    "functions=[\n",
    "    {\n",
    "        \"name\": \"open_the_gate\",\n",
    "        \"description\": \"call this function to push forward the story if Sphinx open the gate\",\n",
    "        \"parameters\": {\"type\": \"object\",\"properties\": {}}\n",
    "    },\n",
    "    {\n",
    "        \"name\": \"eat_the_player\",\n",
    "        \"description\": \"call this function to push forward the story if Sphinx eat the player\",\n",
    "        \"parameters\": {\"type\": \"object\",\"properties\": {}}\n",
    "    }\n",
    "]\n",
    "\n",
    "messages = []\n",
    "messages.append({\"role\": \"system\", \"content\": \"You are playing as Sphinx in a role playing game. You will ask player a riddle. You will only open the gate after player successfully answer the riddle. If the player fail you will eat the player. Play stay in character.\"})\n",
    "                 \n",
    "while True:\n",
    "    messages=completion(messages=messages,functions=functions,temperature=0.0)\n",
    "    response=messages[-1]\n",
    "    print(response);sys.stdout.flush()\n",
    "    if response.get(\"function_call\"):\n",
    "        function_name=response[\"function_call\"][\"name\"]\n",
    "        if function_name==\"open_the_gate\":\n",
    "            print(\"You succeed!\")\n",
    "            break\n",
    "        elif function_name==\"eat_the_player\":\n",
    "            print(\"You fail!\")\n",
    "            break\n",
    "    else:\n",
    "        player_input=input(\"Player input:\")\n",
    "        messages.append({\"role\": \"user\", \"content\": player_input})\n",
    "        print(messages[-1]);sys.stdout.flush()"
   ]
  },
  {
   "cell_type": "code",
   "execution_count": null,
   "metadata": {},
   "outputs": [],
   "source": []
  }
 ],
 "metadata": {
  "kernelspec": {
   "display_name": "tensorflow",
   "language": "python",
   "name": "python3"
  },
  "language_info": {
   "codemirror_mode": {
    "name": "ipython",
    "version": 3
   },
   "file_extension": ".py",
   "mimetype": "text/x-python",
   "name": "python",
   "nbconvert_exporter": "python",
   "pygments_lexer": "ipython3",
   "version": "3.10.0"
  },
  "orig_nbformat": 4
 },
 "nbformat": 4,
 "nbformat_minor": 2
}
